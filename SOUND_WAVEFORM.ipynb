{
  "nbformat": 4,
  "nbformat_minor": 0,
  "metadata": {
    "colab": {
      "provenance": [],
      "authorship_tag": "ABX9TyOMDA8xCHwQBm4mM5TbvJ4y",
      "include_colab_link": true
    },
    "kernelspec": {
      "name": "python3",
      "display_name": "Python 3"
    },
    "language_info": {
      "name": "python"
    }
  },
  "cells": [
    {
      "cell_type": "markdown",
      "metadata": {
        "id": "view-in-github",
        "colab_type": "text"
      },
      "source": [
        "<a href=\"https://colab.research.google.com/github/percivalyan/SOUND-WAVEFORM/blob/main/SOUND_WAVEFORM.ipynb\" target=\"_parent\"><img src=\"https://colab.research.google.com/assets/colab-badge.svg\" alt=\"Open In Colab\"/></a>"
      ]
    },
    {
      "cell_type": "code",
      "source": [
        "!pip install librosa matplotlib numpy pydub"
      ],
      "metadata": {
        "id": "iv6tti_ZIbYv"
      },
      "execution_count": null,
      "outputs": []
    },
    {
      "cell_type": "code",
      "execution_count": null,
      "metadata": {
        "id": "uCgZU51nIF2T"
      },
      "outputs": [],
      "source": [
        "from google.colab import files\n",
        "from pydub import AudioSegment\n",
        "import io\n",
        "\n",
        "# Upload file\n",
        "uploaded = files.upload()\n",
        "\n",
        "# Convert uploaded file to WAV format if necessary\n",
        "filename = list(uploaded.keys())[0]\n",
        "file_extension = filename.split('.')[-1].lower()\n",
        "\n",
        "# Load audio file with pydub\n",
        "audio = AudioSegment.from_file(io.BytesIO(uploaded[filename]), format=file_extension)\n",
        "\n",
        "# Check duration and trim if necessary\n",
        "max_duration = 10 * 60 * 1000  # 10 minutes in milliseconds\n",
        "if len(audio) > max_duration:\n",
        "    audio = audio[:max_duration]\n",
        "\n",
        "# Save to a temporary WAV file for further processing\n",
        "wav_filename = '/tmp/temp_audio.wav'\n",
        "audio.export(wav_filename, format='wav')\n"
      ]
    },
    {
      "cell_type": "code",
      "source": [
        "import librosa\n",
        "import librosa.display\n",
        "import matplotlib.pyplot as plt\n",
        "import numpy as np\n",
        "\n",
        "# Load audio file\n",
        "y, sr = librosa.load(wav_filename)\n",
        "\n",
        "# Generate the spectrogram\n",
        "D = librosa.amplitude_to_db(np.abs(librosa.stft(y)), ref=np.max)\n",
        "\n",
        "# Plot the spectrogram\n",
        "plt.figure(figsize=(10, 6))\n",
        "librosa.display.specshow(D, sr=sr, x_axis='time', y_axis='log')\n",
        "plt.colorbar(format='%+2.0f dB')\n",
        "plt.title('Spectrogram')\n",
        "plt.show()\n",
        "\n",
        "# Plot the waveform\n",
        "plt.figure(figsize=(10, 4))\n",
        "plt.plot(np.linspace(0, len(y)/sr, num=len(y)), y)\n",
        "plt.title('Waveform')\n",
        "plt.xlabel('Time (s)')\n",
        "plt.ylabel('Amplitude')\n",
        "plt.show()\n",
        "\n",
        "# Analyze pitch (frequency)\n",
        "pitches, magnitudes = librosa.piptrack(y=y, sr=sr)\n",
        "pitch_freqs = []\n",
        "for t in range(pitches.shape[1]):\n",
        "    index = magnitudes[:, t].argmax()\n",
        "    pitch_freqs.append(pitches[index, t])\n",
        "\n",
        "# Plot pitch frequency over time\n",
        "plt.figure(figsize=(10, 4))\n",
        "plt.plot(np.linspace(0, len(y)/sr, num=len(pitch_freqs)), pitch_freqs, color='r')\n",
        "plt.title('Pitch Frequency')\n",
        "plt.xlabel('Time (s)')\n",
        "plt.ylabel('Frequency (Hz)')\n",
        "plt.show()\n"
      ],
      "metadata": {
        "id": "tbazOUHfJCjk"
      },
      "execution_count": null,
      "outputs": []
    },
    {
      "cell_type": "code",
      "source": [
        "def analyze_audio_description(y, sr):\n",
        "    # Spectrogram Analysis\n",
        "    D = librosa.amplitude_to_db(np.abs(librosa.stft(y)), ref=np.max)\n",
        "    avg_dB = np.mean(D)\n",
        "    max_dB = np.max(D)\n",
        "    min_dB = np.min(D)\n",
        "    freq_range = librosa.fft_frequencies(sr=sr)\n",
        "\n",
        "    # Waveform Analysis\n",
        "    duration = len(y) / sr\n",
        "    max_amplitude = np.max(y)\n",
        "    min_amplitude = np.min(y)\n",
        "\n",
        "    # Pitch Frequency Analysis\n",
        "    pitches, magnitudes = librosa.piptrack(y=y, sr=sr)\n",
        "    pitch_freqs = []\n",
        "    for t in range(pitches.shape[1]):\n",
        "        index = magnitudes[:, t].argmax()\n",
        "        pitch_freqs.append(pitches[index, t])\n",
        "\n",
        "    # Calculating pitch statistics\n",
        "    avg_pitch = np.mean(pitch_freqs)\n",
        "    max_pitch = np.max(pitch_freqs)\n",
        "    min_pitch = np.min(pitch_freqs)\n",
        "\n",
        "    # Generating descriptive conclusions\n",
        "    conclusions = {\n",
        "        \"Spectrogram Analysis\": {\n",
        "            \"Average dB Level\": f\"{avg_dB:.2f} dB\",\n",
        "            \"Maximum dB Level\": f\"{max_dB:.2f} dB\",\n",
        "            \"Minimum dB Level\": f\"{min_dB:.2f} dB\",\n",
        "            \"Frequency Range\": f\"{freq_range[0]:.2f} Hz to {freq_range[-1]:.2f} Hz\"\n",
        "        },\n",
        "        \"Waveform Analysis\": {\n",
        "            \"Duration\": f\"{duration:.2f} seconds\",\n",
        "            \"Maximum Amplitude\": f\"{max_amplitude:.2f}\",\n",
        "            \"Minimum Amplitude\": f\"{min_amplitude:.2f}\"\n",
        "        },\n",
        "        \"Pitch Frequency Analysis\": {\n",
        "            \"Average Pitch Frequency\": f\"{avg_pitch:.2f} Hz\",\n",
        "            \"Maximum Pitch Frequency\": f\"{max_pitch:.2f} Hz\",\n",
        "            \"Minimum Pitch Frequency\": f\"{min_pitch:.2f} Hz\"\n",
        "        }\n",
        "    }\n",
        "\n",
        "    # Print conclusions\n",
        "    print(\"Descriptive Analysis of Audio Data:\")\n",
        "    for section, stats in conclusions.items():\n",
        "        print(f\"\\n{section}:\")\n",
        "        for key, value in stats.items():\n",
        "            print(f\"  - {key}: {value}\")\n",
        "\n",
        "# Call the function to print the descriptive analysis\n",
        "analyze_audio_description(y, sr)"
      ],
      "metadata": {
        "id": "nTkv_WqJKME5"
      },
      "execution_count": null,
      "outputs": []
    }
  ]
}